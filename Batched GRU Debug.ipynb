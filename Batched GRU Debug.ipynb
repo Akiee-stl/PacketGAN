{
 "cells": [
  {
   "cell_type": "code",
   "execution_count": 1,
   "metadata": {},
   "outputs": [
    {
     "data": {
      "text/plain": [
       "<module 'networks' from '/home/jaywalker/MachineLearning/PacketGAN/networks.py'>"
      ]
     },
     "execution_count": 1,
     "metadata": {},
     "output_type": "execute_result"
    }
   ],
   "source": [
    "#setup imports and make ure the files we care about exist\n",
    "%matplotlib inline\n",
    "import torch\n",
    "import torch.nn as nn\n",
    "from torch.utils.data import DataLoader\n",
    "from torch.utils.data import random_split\n",
    "import pandas as pd\n",
    "import matplotlib.pyplot as plt\n",
    "import numpy as np\n",
    "import os.path\n",
    "from pprint import pprint\n",
    "\n",
    "#custom modules\n",
    "import feature_extraction\n",
    "import networks\n",
    "\n",
    "from importlib import reload #allow us to reload custom modules any time we like with modifications\n",
    "reload(feature_extraction)\n",
    "reload(networks)"
   ]
  },
  {
   "cell_type": "code",
   "execution_count": 2,
   "metadata": {},
   "outputs": [
    {
     "name": "stdout",
     "output_type": "stream",
     "text": [
      "Input shape:  torch.Size([5, 3, 2])\n",
      "tensor([[[ 1.2907, -1.9075],\n",
      "         [ 0.7907, -1.2057],\n",
      "         [-0.4468,  1.8102]],\n",
      "\n",
      "        [[-0.1171, -1.4274],\n",
      "         [-0.9515,  1.2203],\n",
      "         [-0.3572,  1.3283]],\n",
      "\n",
      "        [[-2.3029, -0.6014],\n",
      "         [ 0.9744, -2.6881],\n",
      "         [ 0.6822,  0.3435]],\n",
      "\n",
      "        [[-0.8484,  0.4316],\n",
      "         [-0.1721,  1.0651],\n",
      "         [-0.9492, -0.0992]],\n",
      "\n",
      "        [[ 0.8852, -0.2258],\n",
      "         [ 0.2451,  0.4645],\n",
      "         [-1.6962,  0.7825]]])\n",
      "lsm out:\n",
      "tensor([[[-0.1132,  0.0111, -0.6473],\n",
      "         [-0.2769, -0.2434, -0.6836],\n",
      "         [-0.0773,  0.1870, -0.3005],\n",
      "         [-0.2832, -0.2586, -0.2867],\n",
      "         [-0.3092, -0.3199, -0.4601]]], grad_fn=<StackBackward>)\n"
     ]
    }
   ],
   "source": [
    "input_size = 2\n",
    "sequence_length = 3\n",
    "hidden_size = 3\n",
    "batch_size = 5\n",
    "lsm = networks.GRUMapping(input_size, hidden_size, batch_size)\n",
    "\n",
    "batched_input = torch.randn(batch_size, sequence_length, input_size)\n",
    "print(\"Input shape: \", batched_input.shape)\n",
    "pprint(batched_input)\n",
    "\n",
    "lsm_out = lsm(batched_input)\n",
    "print(\"lsm out:\")\n",
    "pprint(lsm_out)\n",
    "\n",
    "\n",
    "\n"
   ]
  },
  {
   "cell_type": "code",
   "execution_count": 3,
   "metadata": {},
   "outputs": [
    {
     "name": "stdout",
     "output_type": "stream",
     "text": [
      "Input shape:  torch.Size([5, 3, 2])\n",
      "tensor([[[ 1.2907, -1.9075],\n",
      "         [ 0.7907, -1.2057],\n",
      "         [-0.4468,  1.8102]],\n",
      "\n",
      "        [[-0.1171, -1.4274],\n",
      "         [-0.9515,  1.2203],\n",
      "         [-0.3572,  1.3283]],\n",
      "\n",
      "        [[-2.3029, -0.6014],\n",
      "         [ 0.9744, -2.6881],\n",
      "         [ 0.6822,  0.3435]],\n",
      "\n",
      "        [[-0.8484,  0.4316],\n",
      "         [-0.1721,  1.0651],\n",
      "         [-0.9492, -0.0992]],\n",
      "\n",
      "        [[ 0.8852, -0.2258],\n",
      "         [ 0.2451,  0.4645],\n",
      "         [-1.6962,  0.7825]]])\n",
      "tensor([[[-0.1132,  0.0111, -0.6473]]], grad_fn=<StackBackward>)\n",
      "tensor([[[-0.2769, -0.2434, -0.6836]]], grad_fn=<StackBackward>)\n",
      "tensor([[[-0.0773,  0.1870, -0.3005]]], grad_fn=<StackBackward>)\n",
      "tensor([[[-0.2832, -0.2586, -0.2867]]], grad_fn=<StackBackward>)\n",
      "tensor([[[-0.3092, -0.3199, -0.4601]]], grad_fn=<StackBackward>)\n"
     ]
    }
   ],
   "source": [
    "#Try manual batching?\n",
    "lsm.batch_size = 1\n",
    "\n",
    "#use same input as previous to compare output\n",
    "print(\"Input shape: \", batched_input.shape)\n",
    "pprint(batched_input)\n",
    "\n",
    "for e in batched_input:\n",
    "    enew = torch.tensor([e.numpy()])\n",
    "    pprint(lsm(enew)) \n",
    "    \n",
    "\n",
    "\n",
    "\n"
   ]
  },
  {
   "cell_type": "code",
   "execution_count": null,
   "metadata": {},
   "outputs": [],
   "source": []
  }
 ],
 "metadata": {
  "kernelspec": {
   "display_name": "Python 3",
   "language": "python",
   "name": "python3"
  },
  "language_info": {
   "codemirror_mode": {
    "name": "ipython",
    "version": 3
   },
   "file_extension": ".py",
   "mimetype": "text/x-python",
   "name": "python",
   "nbconvert_exporter": "python",
   "pygments_lexer": "ipython3",
   "version": "3.7.1"
  }
 },
 "nbformat": 4,
 "nbformat_minor": 2
}
