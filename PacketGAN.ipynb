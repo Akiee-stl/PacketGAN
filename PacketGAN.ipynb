{
 "cells": [
  {
   "cell_type": "code",
   "execution_count": 1,
   "metadata": {
    "scrolled": true
   },
   "outputs": [
    {
     "data": {
      "text/plain": [
       "<module 'networks' from '/home/jaywalker/MachineLearning/PacketGAN/networks.py'>"
      ]
     },
     "execution_count": 1,
     "metadata": {},
     "output_type": "execute_result"
    }
   ],
   "source": [
    "#setup imports and make ure the files we care about exist\n",
    "%matplotlib inline\n",
    "import torch\n",
    "import torch.nn as nn\n",
    "from torch.utils.data import DataLoader\n",
    "from torch.utils.data import random_split\n",
    "import pandas as pd\n",
    "import matplotlib.pyplot as plt\n",
    "import numpy as np\n",
    "import os.path\n",
    "from pprint import pprint\n",
    "\n",
    "#custom modules\n",
    "import feature_extraction\n",
    "import unsw_nb15_dataset\n",
    "import networks\n",
    "\n",
    "from importlib import reload #allow us to reload custom modules any time we like with modifications\n",
    "reload(feature_extraction)\n",
    "reload(unsw_nb15_dataset)\n",
    "reload(networks)"
   ]
  },
  {
   "cell_type": "code",
   "execution_count": 2,
   "metadata": {},
   "outputs": [
    {
     "name": "stderr",
     "output_type": "stream",
     "text": [
      "/home/jaywalker/anaconda3/lib/python3.7/site-packages/IPython/core/interactiveshell.py:3185: DtypeWarning: Columns (39) have mixed types. Specify dtype option on import or set low_memory=False.\n",
      "  if (yield from self.run_code(code, result)):\n"
     ]
    },
    {
     "name": "stdout",
     "output_type": "stream",
     "text": [
      "Network input data shape:  torch.Size([64, 25, 137])\n",
      "Number of training examples:  2613\n"
     ]
    }
   ],
   "source": [
    "#set up the dataset(s)\n",
    "\n",
    "#set some hyperparameters\n",
    "sequence_length=25\n",
    "batch_size=64 #always using size 1 because I can't seem to make the GRU work correctly with larger batches\n",
    "\n",
    "#first, load the dataset\n",
    "data_set = unsw_nb15_dataset.UNSW_NB15('UNSW_NB15_full_clean.csv',\n",
    "                                       sequence_length=sequence_length, \n",
    "                                       transform=feature_extraction.build_feature_sequence_tensor)\n",
    "\n",
    "#pick out the attack examples\n",
    "data_set.use_only_category('DoS'); #in this case just look at DoS attack samples \n",
    "\n",
    "#get rid of this when you want to use the whole set\n",
    "fraction_to_use = 0.05\n",
    "data_set, _ = random_split(data_set, [round(len(data_set) * fraction_to_use), len(data_set) - round(len(data_set) * fraction_to_use)])\n",
    "\n",
    "train_set_length = round(len(data_set) * 0.8)\n",
    "test_set_length = len(data_set) - train_set_length\n",
    "train_set, test_set = random_split(data_set, [train_set_length, test_set_length])\n",
    "\n",
    "data_loader = DataLoader(train_set, batch_size=batch_size,\n",
    "                        shuffle=True, num_workers=2)\n",
    "\n",
    "data_example = None\n",
    "for count, data in enumerate(data_loader):\n",
    "    data_example = data\n",
    "    if count == 0:\n",
    "        break\n",
    "        \n",
    "print(\"Network input data shape: \", data_example.shape)\n",
    "print(\"Number of training examples: \", len(data_loader.dataset))"
   ]
  },
  {
   "cell_type": "code",
   "execution_count": 3,
   "metadata": {},
   "outputs": [
    {
     "name": "stdout",
     "output_type": "stream",
     "text": [
      "Number of input features:  137\n",
      "Latent dimensions:  25\n"
     ]
    },
    {
     "data": {
      "image/png": "[encoded data removed]",
      "text/plain": [
       "<Figure size 432x288 with 1 Axes>"
      ]
     },
     "metadata": {
      "needs_background": "light"
     },
     "output_type": "display_data"
    }
   ],
   "source": [
    "#train a KMeans classifier for cluster evaluation\n",
    "import evaluation\n",
    "reload(evaluation)\n",
    "\n",
    "num_features = data_set[0].shape[1]\n",
    "print(\"Number of input features: \", num_features)\n",
    "latent_dimensions = 25\n",
    "print(\"Latent dimensions: \", latent_dimensions)\n",
    "\n",
    "latent_space_mapper = networks.GRUMapping(num_features, latent_dimensions, batch_size)\n",
    "\n",
    "#convert the train_set and test_set to a lower dimensional space for clustering\n",
    "train_set_latent = []\n",
    "train_comparison_set, _ = random_split(train_set, [len(test_set), len(train_set) - len(test_set)])\n",
    "train_comparison_set_dl = torch.utils.data.DataLoader(train_comparison_set, batch_size=batch_size, shuffle=True) #use a dataloader so the examples are batched\n",
    "with torch.no_grad():\n",
    "    for example in train_comparison_set_dl:\n",
    "        if example.shape[0] != batch_size:\n",
    "            continue #ignore batches that don't fit the network so we don't have to deal with too many technicalities...\n",
    "            #maybe we could deal with that by changing the size of the hidden state of the network before inputting the data?\n",
    "        train_set_latent.extend(latent_space_mapper(example).numpy()[0])\n",
    "        \n",
    "#print(train_set_latent)\n",
    "\n",
    "test_set_latent = []\n",
    "test_set_dl = torch.utils.data.DataLoader(test_set, batch_size=batch_size, shuffle=True)\n",
    "with torch.no_grad():\n",
    "    for example in test_set_dl:\n",
    "        if example.shape[0] != batch_size:\n",
    "            continue #ignore batches that don't fit the network to keep things easy\n",
    "        test_set_latent.extend(latent_space_mapper(example).numpy()[0])\n",
    "\n",
    "#print(\"Latent test set length: \", len(test_set_latent))\n",
    "#pprint(test_set_latent)\n",
    "#print(\"Latent test set element size: \", test_set_latent[0].shape)\n",
    "kmeans = evaluation.KMeansTorch(n_clusters=10)\n",
    "kmeans.fit(train_set_latent)\n",
    "\n",
    "#are the train set and test set from the same distribution?\n",
    "train_counts, test_counts = evaluation.cluster_and_compare(kmeans, train_set_latent, test_set_latent, retrain=False)"
   ]
  },
  {
   "cell_type": "code",
   "execution_count": 4,
   "metadata": {},
   "outputs": [],
   "source": [
    "#define the networks \n",
    "G = networks.Generator(sequence_length, data_example.shape[2], data_example.shape[2] * 2, 30, data_example.shape[2], batch_size, torch.sigmoid, noise_input=True)\n",
    "D = networks.Discriminator(sequence_length, data_example.shape[2], data_example.shape[2] * 2, 1, batch_size, torch.sigmoid)"
   ]
  },
  {
   "cell_type": "code",
   "execution_count": null,
   "metadata": {},
   "outputs": [
    {
     "name": "stdout",
     "output_type": "stream",
     "text": [
      "Training: [------------------------------] 0.5%\n",
      "Epoch:  1 / 1\n",
      "D Real Error:  0.26645028591156006\n",
      "D Fake Error:  0.25168389081954956\n",
      "G Error:  1.5283095836639404\n",
      "Remaining time: 1:27:19.159004\n"
     ]
    }
   ],
   "source": [
    "#train GAN to replace masked packets\n",
    "#by iterating over the dataset for some # of epochs\n",
    "\n",
    "import train\n",
    "reload(train)\n",
    "reload(networks)\n",
    "\n",
    "#Train the network!\n",
    "num_epochs = 1\n",
    "G, D, g_losses, df_losses, g_stats, df_stats = train.train_gan(G,D,data_loader,num_epochs)\n",
    "\n",
    "#plot instantaneous losses\n",
    "plt.plot(range(len(df_losses)), df_losses, 'r-', range(len(g_losses)), g_losses, 'g-')\n",
    "plt.show()\n",
    "\n",
    "#plot loss averages\n",
    "plt.plot(range(len(df_stats.get_averages())), df_stats.get_averages(), 'r-', range(len(g_stats.get_averages())), g_stats.get_averages(), 'g-')\n",
    "plt.show()\n",
    "\n",
    "#cluster and compare. Are the fake examples even remotely matching the original distribution?\n",
    "#first generate a set of masked sequences\n",
    "gan_latent_test_set = []\n",
    "with torch.no_grad():\n",
    "    for example in test_set_dl:\n",
    "        if example.shape[0] != batch_size:\n",
    "            continue #ignore batches that don't fit the network to keep things easy\n",
    "        generated_example = G(example)\n",
    "        gan_latent_test_set.extend(latent_space_mapper(generated_example).numpy()[0])\n",
    "\n",
    "#then compare the native GAN output\n",
    "train_counts, test_counts = evaluation.cluster_and_compare(kmeans, train_set_latent, gan_latent_test_set, retrain=False)"
   ]
  },
  {
   "cell_type": "code",
   "execution_count": null,
   "metadata": {},
   "outputs": [],
   "source": [
    "#This is a test of the wasserstein critic/approximate wasserstein distance\n",
    "import torch.utils.data\n",
    "import evaluation\n",
    "reload(evaluation)\n",
    "\n",
    "for k in range(0, 1):\n",
    "    real_set, generator_input, _ = random_split(test_set, [len(test_set) // 2, len(test_set) // 2, len(test_set) - 2*(len(test_set) // 2)]) #I'm assuming it's got at least 200 examples to spare\n",
    "    real_list = []\n",
    "    #assuming real_train_set and real_test_set are equal length\n",
    "    for i in range(0, len(real_set)):\n",
    "        real_list.append(feature_extraction.batchify([real_set[i]]))\n",
    "        \n",
    "    fake_set = []\n",
    "    for i in range(0, len(generator_input)):\n",
    "        #for this example I'll just use the raw generator output. We can mask later.\n",
    "        #this way it's consistent with the histogram above.\n",
    "        with torch.no_grad():\n",
    "            fake_set.append(G(feature_extraction.batchify([generator_input[i]]))) #G ouput already has batch dimension\n",
    "            \n",
    "    #print(len(real_set))\n",
    "    #print(real_list[0].shape)\n",
    "    #print(fake_set[0].shape)\n",
    "            \n",
    "    w_hat, accuracy = evaluation.wasserstein_critic(real_list, fake_set)\n",
    "    print(\"Wasserstein Distance: \", w_hat)\n",
    "    print(\"Classification Accuracy: \", accuracy)\n"
   ]
  },
  {
   "cell_type": "code",
   "execution_count": null,
   "metadata": {
    "scrolled": false
   },
   "outputs": [],
   "source": [
    "def print_dict_compare(dict1, dict2):\n",
    "    for k in dict1:\n",
    "        if k not in dict2:\n",
    "            return None\n",
    "        \n",
    "    for k in dict1:\n",
    "        print(dict1[k], \"\\t\\t\", dict2[k])\n",
    "\n",
    "def dict_list_compare(dict_list1, dict_list2):\n",
    "    for l in range(0, len(dict_list1)):\n",
    "        print_dict_compare(dict_list1[l], dict_list2[l])\n",
    "    print(\"\\n\\n\")\n",
    "\n",
    "            \n",
    "import random\n",
    "data_example = None\n",
    "for count, data in enumerate(data_loader):\n",
    "    data_example = data\n",
    "    if count == 0:\n",
    "        break\n",
    "        \n",
    "print(\"Real data\\tFake data\")\n",
    "real_data = feature_extraction.decode_feature_sequence_tensor(data_set, data_example[0])\n",
    "\n",
    "#note here that \"gen\" is the trained generator returned from the training function above\n",
    "generated_data = G(data_example).detach()\n",
    "fake_data = feature_extraction.decode_feature_sequence_tensor(data_set, generated_data[0])\n",
    "\n",
    "dict_list_compare(real_data, fake_data)\n",
    "\n",
    "#print(\"From data set:\")\n",
    "#print(feature_extraction.decode_feature_sequence_tensor(data_set, data_set[0]))"
   ]
  },
  {
   "cell_type": "code",
   "execution_count": null,
   "metadata": {},
   "outputs": [],
   "source": []
  },
  {
   "cell_type": "code",
   "execution_count": null,
   "metadata": {},
   "outputs": [],
   "source": []
  }
 ],
 "metadata": {
  "kernelspec": {
   "display_name": "Python 3",
   "language": "python",
   "name": "python3"
  },
  "language_info": {
   "codemirror_mode": {
    "name": "ipython",
    "version": 3
   },
   "file_extension": ".py",
   "mimetype": "text/x-python",
   "name": "python",
   "nbconvert_exporter": "python",
   "pygments_lexer": "ipython3",
   "version": "3.7.1"
  }
 },
 "nbformat": 4,
 "nbformat_minor": 2
}
