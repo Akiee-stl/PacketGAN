{
 "cells": [
  {
   "cell_type": "code",
   "execution_count": 1,
   "metadata": {
    "scrolled": true
   },
   "outputs": [
    {
     "data": {
      "text/plain": [
       "<module 'train' from '/home/jaywalker/MachineLearning/PacketGAN/train.py'>"
      ]
     },
     "execution_count": 1,
     "metadata": {},
     "output_type": "execute_result"
    }
   ],
   "source": [
    "#setup imports and make ure the files we care about exist\n",
    "import torch\n",
    "import torch.nn as nn\n",
    "from torch.utils.data import DataLoader\n",
    "import pandas as pd\n",
    "import matplotlib.pyplot as plt\n",
    "import numpy as np\n",
    "import os.path\n",
    "\n",
    "#custom modules\n",
    "import feature_extraction\n",
    "import unsw_nb15_dataset\n",
    "import generator_discriminator\n",
    "import train\n",
    "\n",
    "from importlib import reload #allow us to reload custom modules any time we like with modifications\n",
    "reload(feature_extraction)\n",
    "reload(unsw_nb15_dataset)\n",
    "reload(generator_discriminator)\n",
    "reload(train)\n",
    "\n",
    "#fe.test_cases()"
   ]
  },
  {
   "cell_type": "code",
   "execution_count": null,
   "metadata": {},
   "outputs": [
    {
     "name": "stdout",
     "output_type": "stream",
     "text": [
      "Training has started...\n"
     ]
    },
    {
     "name": "stderr",
     "output_type": "stream",
     "text": [
      "/home/jaywalker/anaconda3/lib/python3.7/site-packages/torch/nn/functional.py:2016: UserWarning: Using a target size (torch.Size([5])) that is different to the input size (torch.Size([1, 5, 1])) is deprecated. Please ensure they have the same size.\n",
      "  \"Please ensure they have the same size.\".format(target.size(), input.size()))\n"
     ]
    },
    {
     "name": "stdout",
     "output_type": "stream",
     "text": [
      "Epoch:  0\n",
      "D Real Error:  0.6842836737632751\n",
      "D Fake Error:  0.570070743560791\n",
      "G Error:  1.6903883218765259\n",
      "Remaining time: 0:17:27.254741\n",
      "Epoch:  1\n",
      "D Real Error:  0.5898365378379822\n",
      "D Fake Error:  0.4941752552986145\n",
      "G Error:  1.869036316871643\n",
      "Remaining time: 0:19:41.868359\n",
      "Epoch:  2\n",
      "D Real Error:  0.6052052974700928\n",
      "D Fake Error:  0.7895750999450684\n",
      "G Error:  1.7958694696426392\n",
      "Remaining time: 0:17:33.142356\n",
      "Epoch:  3\n",
      "D Real Error:  0.6210771203041077\n",
      "D Fake Error:  0.6834601163864136\n",
      "G Error:  0.7495638132095337\n",
      "Remaining time: 0:16:31.522563\n",
      "Epoch:  4\n",
      "D Real Error:  0.6504245400428772\n",
      "D Fake Error:  0.656497597694397\n",
      "G Error:  0.7433679699897766\n",
      "Remaining time: 0:20:34.244055\n",
      "Epoch:  5\n",
      "D Real Error:  0.643572986125946\n",
      "D Fake Error:  0.729261577129364\n",
      "G Error:  0.6605849266052246\n",
      "Remaining time: 0:14:01.220212\n",
      "Epoch:  6\n",
      "D Real Error:  0.7229766845703125\n",
      "D Fake Error:  0.6641817092895508\n",
      "G Error:  0.721723735332489\n",
      "Remaining time: 0:12:03.430074\n",
      "Epoch:  7\n",
      "D Real Error:  0.705600380897522\n",
      "D Fake Error:  0.68084716796875\n",
      "G Error:  0.7501263618469238\n",
      "Remaining time: 0:14:39.391361\n",
      "Epoch:  8\n",
      "D Real Error:  0.6687401533126831\n",
      "D Fake Error:  0.71816486120224\n",
      "G Error:  0.6917628049850464\n",
      "Remaining time: 0:10:46.740553\n",
      "Epoch:  9\n",
      "D Real Error:  0.6797796487808228\n",
      "D Fake Error:  0.7066958546638489\n",
      "G Error:  0.6801538467407227\n",
      "Remaining time: 0:09:03.432514\n",
      "Epoch:  10\n",
      "D Real Error:  0.6218602061271667\n",
      "D Fake Error:  0.7526971101760864\n",
      "G Error:  0.6913251280784607\n",
      "Remaining time: 0:13:14.347411\n",
      "Epoch:  11\n",
      "D Real Error:  0.6672844886779785\n",
      "D Fake Error:  0.7134952545166016\n",
      "G Error:  0.7010916471481323\n",
      "Remaining time: 0:10:58.071844\n",
      "Epoch:  12\n",
      "D Real Error:  0.6550310850143433\n",
      "D Fake Error:  0.7327739000320435\n",
      "G Error:  0.6889591217041016\n",
      "Remaining time: 0:09:01.695517\n"
     ]
    }
   ],
   "source": [
    "#first, load the dataset\n",
    "data_set = unsw_nb15_dataset.UNSW_NB15(['/home/jaywalker/MachineLearning/PacketGAN/UNSW-NB15_1_clean.csv'],\n",
    "                                       sequence_length=5, \n",
    "                                       transform=feature_extraction.build_feature_sequence_tensor)\n",
    "\n",
    "#pick out the attack examples\n",
    "data_set.use_only_category('DoS'); #in this case just look at DoS attack samples\n",
    "\n",
    "#convert attack examples into time windows for training\n",
    "#DONE by the UNSW_NB15 class at load-time\n",
    "\n",
    "#convert each window into appropriate feature tensor\n",
    "#DONE by the transform function passed to the UNSW_NB15 class at load-time\n",
    "\n",
    "#train GAN to replace masked packets\n",
    "#by iterating over the dataset for some # of epochs\n",
    "#TODO make a python file to contain the network class definitions and training funciton\n",
    "\n",
    "data_loader = DataLoader(data_set, batch_size=1,\n",
    "                        shuffle=True, num_workers=4)\n",
    "\n",
    "data_example = None\n",
    "for count, data in enumerate(data_loader):\n",
    "    data_example = data\n",
    "    if count == 0:\n",
    "        break\n",
    "        \n",
    "G = generator_discriminator.Generator(data_example.shape[2], data_example.shape[2] * 2, 30, data_example.shape[2], torch.sigmoid)\n",
    "D = generator_discriminator.Discriminator(data_example.shape[2], data_example.shape[2] * 2, 1, torch.sigmoid)\n",
    "gen, g_losses, df_losses, g_stats, df_stats = train.train(G,D,data_loader)\n",
    "\n",
    "#plot instantaneous losses\n",
    "plt.plot(range(len(df_losses)), df_losses, 'r-', range(len(g_losses)), g_losses, 'g-')\n",
    "plt.show()\n",
    "\n",
    "#plot loss averages\n",
    "plt.plot(range(len(df_stats.get_averages())), df_stats.get_averages(), 'r-', range(len(g_stats.get_averages())), g_stats.get_averages(), 'g-')\n",
    "plt.show()\n",
    "\n"
   ]
  },
  {
   "cell_type": "code",
   "execution_count": null,
   "metadata": {},
   "outputs": [],
   "source": [
    "#evaluate results!\n",
    "print(\"Real data: \", decode_feature_sequence_tensor(data_set[0]), end=\"\\n\\n\")\n",
    "\n",
    "#note here that \"gen\" is the trained generator returned from the training function above\n",
    "print(\"Fake data: \", decode_feature_sequence_tensor(G(data_set[0]).detach()))"
   ]
  },
  {
   "cell_type": "code",
   "execution_count": null,
   "metadata": {},
   "outputs": [],
   "source": []
  }
 ],
 "metadata": {
  "kernelspec": {
   "display_name": "Python 3",
   "language": "python",
   "name": "python3"
  },
  "language_info": {
   "codemirror_mode": {
    "name": "ipython",
    "version": 3
   },
   "file_extension": ".py",
   "mimetype": "text/x-python",
   "name": "python",
   "nbconvert_exporter": "python",
   "pygments_lexer": "ipython3",
   "version": "3.7.1"
  }
 },
 "nbformat": 4,
 "nbformat_minor": 2
}
